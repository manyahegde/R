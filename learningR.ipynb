{
 "cells": [
  {
   "cell_type": "code",
   "execution_count": 1,
   "id": "f67a5c0d",
   "metadata": {},
   "outputs": [
    {
     "data": {
      "text/html": [
       "'learning R'"
      ],
      "text/latex": [
       "'learning R'"
      ],
      "text/markdown": [
       "'learning R'"
      ],
      "text/plain": [
       "[1] \"learning R\""
      ]
     },
     "metadata": {},
     "output_type": "display_data"
    }
   ],
   "source": [
    "\"learning R\""
   ]
  },
  {
   "cell_type": "code",
   "execution_count": 2,
   "id": "b1002e32",
   "metadata": {},
   "outputs": [
    {
     "data": {
      "text/html": [
       "10"
      ],
      "text/latex": [
       "10"
      ],
      "text/markdown": [
       "10"
      ],
      "text/plain": [
       "[1] 10"
      ]
     },
     "metadata": {},
     "output_type": "display_data"
    }
   ],
   "source": [
    "5+5"
   ]
  },
  {
   "cell_type": "code",
   "execution_count": 4,
   "id": "9180d250",
   "metadata": {},
   "outputs": [
    {
     "name": "stdout",
     "output_type": "stream",
     "text": [
      "[1] -3\n",
      "[1] -2\n",
      "[1] -1\n",
      "[1] 0\n",
      "[1] 1\n",
      "[1] 2\n",
      "[1] 3\n"
     ]
    }
   ],
   "source": [
    "#for loops\n",
    "for(i in -3:3){\n",
    "    print(i)\n",
    "}"
   ]
  },
  {
   "cell_type": "code",
   "execution_count": 8,
   "id": "44081f1b",
   "metadata": {},
   "outputs": [
    {
     "data": {
      "text/html": [
       "'manya hegde'"
      ],
      "text/latex": [
       "'manya hegde'"
      ],
      "text/markdown": [
       "'manya hegde'"
      ],
      "text/plain": [
       "[1] \"manya hegde\""
      ]
     },
     "metadata": {},
     "output_type": "display_data"
    },
    {
     "data": {
      "text/html": [
       "20"
      ],
      "text/latex": [
       "20"
      ],
      "text/markdown": [
       "20"
      ],
      "text/plain": [
       "[1] 20"
      ]
     },
     "metadata": {},
     "output_type": "display_data"
    }
   ],
   "source": [
    "#assigning\n",
    "name<-'manya hegde'\n",
    "age<-20\n",
    "name\n",
    "age"
   ]
  },
  {
   "cell_type": "code",
   "execution_count": 9,
   "id": "fd464ee0",
   "metadata": {},
   "outputs": [
    {
     "data": {
      "text/html": [
       "'Learning R programming'"
      ],
      "text/latex": [
       "'Learning R programming'"
      ],
      "text/markdown": [
       "'Learning R programming'"
      ],
      "text/plain": [
       "[1] \"Learning R programming\""
      ]
     },
     "metadata": {},
     "output_type": "display_data"
    }
   ],
   "source": [
    "#concatination\n",
    "text<-'R programming'\n",
    "paste('Learning',text)"
   ]
  },
  {
   "cell_type": "code",
   "execution_count": 14,
   "id": "e964f793",
   "metadata": {},
   "outputs": [],
   "source": [
    "#numeric\n",
    "x<-10.5\n",
    "\n",
    "#integer\n",
    "y<-10L\n",
    "\n",
    "#complex\n",
    "z<-8i+3\n",
    "\n",
    "#character/string\n",
    "m='hello'\n",
    "\n",
    "#boolean/logical\n",
    "b=TRUE"
   ]
  },
  {
   "cell_type": "code",
   "execution_count": 15,
   "id": "4f175b4d",
   "metadata": {},
   "outputs": [
    {
     "data": {
      "text/html": [
       "'numeric'"
      ],
      "text/latex": [
       "'numeric'"
      ],
      "text/markdown": [
       "'numeric'"
      ],
      "text/plain": [
       "[1] \"numeric\""
      ]
     },
     "metadata": {},
     "output_type": "display_data"
    },
    {
     "data": {
      "text/html": [
       "'integer'"
      ],
      "text/latex": [
       "'integer'"
      ],
      "text/markdown": [
       "'integer'"
      ],
      "text/plain": [
       "[1] \"integer\""
      ]
     },
     "metadata": {},
     "output_type": "display_data"
    },
    {
     "data": {
      "text/html": [
       "'complex'"
      ],
      "text/latex": [
       "'complex'"
      ],
      "text/markdown": [
       "'complex'"
      ],
      "text/plain": [
       "[1] \"complex\""
      ]
     },
     "metadata": {},
     "output_type": "display_data"
    },
    {
     "data": {
      "text/html": [
       "'character'"
      ],
      "text/latex": [
       "'character'"
      ],
      "text/markdown": [
       "'character'"
      ],
      "text/plain": [
       "[1] \"character\""
      ]
     },
     "metadata": {},
     "output_type": "display_data"
    },
    {
     "data": {
      "text/html": [
       "'logical'"
      ],
      "text/latex": [
       "'logical'"
      ],
      "text/markdown": [
       "'logical'"
      ],
      "text/plain": [
       "[1] \"logical\""
      ]
     },
     "metadata": {},
     "output_type": "display_data"
    }
   ],
   "source": [
    "#to check the data type of a variable\n",
    "class(x)\n",
    "class(y)\n",
    "class(z)\n",
    "class(m)\n",
    "class(b)"
   ]
  },
  {
   "cell_type": "code",
   "execution_count": 16,
   "id": "65fc4f1e",
   "metadata": {},
   "outputs": [
    {
     "data": {
      "text/html": [
       "10"
      ],
      "text/latex": [
       "10"
      ],
      "text/markdown": [
       "10"
      ],
      "text/plain": [
       "[1] 10"
      ]
     },
     "metadata": {},
     "output_type": "display_data"
    }
   ],
   "source": [
    "#type conversion\n",
    "x2=as.integer(x)\n",
    "x2"
   ]
  },
  {
   "cell_type": "code",
   "execution_count": 19,
   "id": "cecf848d",
   "metadata": {},
   "outputs": [
    {
     "data": {
      "text/html": [
       "10+0i"
      ],
      "text/latex": [
       "10+0i"
      ],
      "text/markdown": [
       "10+0i"
      ],
      "text/plain": [
       "[1] 10+0i"
      ]
     },
     "metadata": {},
     "output_type": "display_data"
    }
   ],
   "source": [
    "y2=as.complex(y)\n",
    "y2"
   ]
  },
  {
   "cell_type": "code",
   "execution_count": 20,
   "id": "57b450b3",
   "metadata": {},
   "outputs": [
    {
     "name": "stderr",
     "output_type": "stream",
     "text": [
      "Warning message in eval(expr, envir, enclos):\n",
      "\"imaginary parts discarded in coercion\""
     ]
    },
    {
     "data": {
      "text/html": [
       "3"
      ],
      "text/latex": [
       "3"
      ],
      "text/markdown": [
       "3"
      ],
      "text/plain": [
       "[1] 3"
      ]
     },
     "metadata": {},
     "output_type": "display_data"
    }
   ],
   "source": [
    "z2=as.numeric(z)\n",
    "z2"
   ]
  },
  {
   "cell_type": "code",
   "execution_count": 21,
   "id": "ef5f0b12",
   "metadata": {},
   "outputs": [
    {
     "data": {
      "text/html": [
       "13"
      ],
      "text/latex": [
       "13"
      ],
      "text/markdown": [
       "13"
      ],
      "text/plain": [
       "[1] 13"
      ]
     },
     "metadata": {},
     "output_type": "display_data"
    },
    {
     "data": {
      "text/html": [
       "0"
      ],
      "text/latex": [
       "0"
      ],
      "text/markdown": [
       "0"
      ],
      "text/plain": [
       "[1] 0"
      ]
     },
     "metadata": {},
     "output_type": "display_data"
    }
   ],
   "source": [
    "#max and min functions\n",
    "max(10, 5, 13, 2)\n",
    "min(9,0,1)"
   ]
  },
  {
   "cell_type": "code",
   "execution_count": 22,
   "id": "0f37925b",
   "metadata": {},
   "outputs": [
    {
     "data": {
      "text/html": [
       "31.6227766016838"
      ],
      "text/latex": [
       "31.6227766016838"
      ],
      "text/markdown": [
       "31.6227766016838"
      ],
      "text/plain": [
       "[1] 31.62278"
      ]
     },
     "metadata": {},
     "output_type": "display_data"
    }
   ],
   "source": [
    "#square root\n",
    "sqrt(1000)"
   ]
  },
  {
   "cell_type": "code",
   "execution_count": 23,
   "id": "0c85fbe9",
   "metadata": {},
   "outputs": [
    {
     "data": {
      "text/html": [
       "2"
      ],
      "text/latex": [
       "2"
      ],
      "text/markdown": [
       "2"
      ],
      "text/plain": [
       "[1] 2"
      ]
     },
     "metadata": {},
     "output_type": "display_data"
    },
    {
     "data": {
      "text/html": [
       "1"
      ],
      "text/latex": [
       "1"
      ],
      "text/markdown": [
       "1"
      ],
      "text/plain": [
       "[1] 1"
      ]
     },
     "metadata": {},
     "output_type": "display_data"
    }
   ],
   "source": [
    "#ceiling and floor functions\n",
    "\n",
    "ceiling(1.4)\n",
    "\n",
    "floor(1.4)"
   ]
  },
  {
   "cell_type": "code",
   "execution_count": 27,
   "id": "c7a609fd",
   "metadata": {},
   "outputs": [
    {
     "data": {
      "text/html": [
       "'R programming\\nfor Data Science!'"
      ],
      "text/latex": [
       "'R programming\\textbackslash{}nfor Data Science!'"
      ],
      "text/markdown": [
       "'R programming\\nfor Data Science!'"
      ],
      "text/plain": [
       "[1] \"R programming\\nfor Data Science!\""
      ]
     },
     "metadata": {},
     "output_type": "display_data"
    },
    {
     "name": "stdout",
     "output_type": "stream",
     "text": [
      "R programming\n",
      "for Data Science!"
     ]
    }
   ],
   "source": [
    "#cat() function\n",
    "\n",
    "str='R programming\n",
    "for Data Science!'\n",
    "\n",
    "str\n",
    "\n",
    "cat(str)"
   ]
  },
  {
   "cell_type": "code",
   "execution_count": 28,
   "id": "e5740dac",
   "metadata": {},
   "outputs": [
    {
     "data": {
      "text/html": [
       "12"
      ],
      "text/latex": [
       "12"
      ],
      "text/markdown": [
       "12"
      ],
      "text/plain": [
       "[1] 12"
      ]
     },
     "metadata": {},
     "output_type": "display_data"
    }
   ],
   "source": [
    "#string length\n",
    "\n",
    "text=\"hello world!\"\n",
    "nchar(text)"
   ]
  },
  {
   "cell_type": "code",
   "execution_count": 29,
   "id": "bd699000",
   "metadata": {},
   "outputs": [
    {
     "data": {
      "text/html": [
       "TRUE"
      ],
      "text/latex": [
       "TRUE"
      ],
      "text/markdown": [
       "TRUE"
      ],
      "text/plain": [
       "[1] TRUE"
      ]
     },
     "metadata": {},
     "output_type": "display_data"
    },
    {
     "data": {
      "text/html": [
       "FALSE"
      ],
      "text/latex": [
       "FALSE"
      ],
      "text/markdown": [
       "FALSE"
      ],
      "text/plain": [
       "[1] FALSE"
      ]
     },
     "metadata": {},
     "output_type": "display_data"
    }
   ],
   "source": [
    "#to check if a character or a sequence of characters are present in a string\n",
    "\n",
    "str=\"Python for Machine Learning\"\n",
    "grepl(\"for\",str)\n",
    "\n",
    "grepl('hello',str)"
   ]
  },
  {
   "cell_type": "code",
   "execution_count": 30,
   "id": "aa357848",
   "metadata": {},
   "outputs": [
    {
     "data": {
      "text/html": [
       "'Running programs on \"RStudio\" with Anaconda is a straightforward process'"
      ],
      "text/latex": [
       "'Running programs on \"RStudio\" with Anaconda is a straightforward process'"
      ],
      "text/markdown": [
       "'Running programs on \"RStudio\" with Anaconda is a straightforward process'"
      ],
      "text/plain": [
       "[1] \"Running programs on \\\"RStudio\\\" with Anaconda is a straightforward process\""
      ]
     },
     "metadata": {},
     "output_type": "display_data"
    },
    {
     "name": "stdout",
     "output_type": "stream",
     "text": [
      "Running programs on \"RStudio\" with Anaconda is a straightforward process"
     ]
    }
   ],
   "source": [
    "#escape character-To insert characters that are illegal in a string\n",
    "\n",
    "str=\"Running programs on \\\"RStudio\\\" with Anaconda is a straightforward process\"\n",
    "str\n",
    "cat(str)"
   ]
  },
  {
   "cell_type": "code",
   "execution_count": 31,
   "id": "ca7844fa",
   "metadata": {},
   "outputs": [
    {
     "name": "stdout",
     "output_type": "stream",
     "text": [
      "[1] \"b is not greater than a\"\n"
     ]
    }
   ],
   "source": [
    "#if else\n",
    "a <- 200\n",
    "b <- 33\n",
    "\n",
    "if (b > a) {\n",
    "  print (\"b is greater than a\")\n",
    "} else {\n",
    "  print(\"b is not greater than a\")\n",
    "}"
   ]
  },
  {
   "cell_type": "code",
   "execution_count": 35,
   "id": "e98bb898",
   "metadata": {},
   "outputs": [
    {
     "data": {
      "text/html": [
       "3"
      ],
      "text/latex": [
       "3"
      ],
      "text/markdown": [
       "3"
      ],
      "text/plain": [
       "[1] 3"
      ]
     },
     "metadata": {},
     "output_type": "display_data"
    }
   ],
   "source": [
    "my_var <- 3\n",
    "\n",
    "my_var <<- 3 #global assigner\n",
    "\n",
    "3 -> my_var #same as my_var<-3\n",
    "\n",
    "3 ->> my_var\n",
    "\n",
    "my_var "
   ]
  },
  {
   "cell_type": "code",
   "execution_count": 37,
   "id": "183777ef",
   "metadata": {},
   "outputs": [
    {
     "data": {
      "text/html": [
       "<ol class=list-inline>\n",
       "\t<li>1</li>\n",
       "\t<li>2</li>\n",
       "\t<li>3</li>\n",
       "\t<li>4</li>\n",
       "\t<li>5</li>\n",
       "\t<li>6</li>\n",
       "\t<li>7</li>\n",
       "\t<li>8</li>\n",
       "\t<li>9</li>\n",
       "\t<li>10</li>\n",
       "</ol>\n"
      ],
      "text/latex": [
       "\\begin{enumerate*}\n",
       "\\item 1\n",
       "\\item 2\n",
       "\\item 3\n",
       "\\item 4\n",
       "\\item 5\n",
       "\\item 6\n",
       "\\item 7\n",
       "\\item 8\n",
       "\\item 9\n",
       "\\item 10\n",
       "\\end{enumerate*}\n"
      ],
      "text/markdown": [
       "1. 1\n",
       "2. 2\n",
       "3. 3\n",
       "4. 4\n",
       "5. 5\n",
       "6. 6\n",
       "7. 7\n",
       "8. 8\n",
       "9. 9\n",
       "10. 10\n",
       "\n",
       "\n"
      ],
      "text/plain": [
       " [1]  1  2  3  4  5  6  7  8  9 10"
      ]
     },
     "metadata": {},
     "output_type": "display_data"
    }
   ],
   "source": [
    "#to create a series of numbers in a sequence\n",
    "x<-1:10\n",
    "x"
   ]
  },
  {
   "cell_type": "code",
   "execution_count": 40,
   "id": "e35934fb",
   "metadata": {},
   "outputs": [
    {
     "data": {
      "text/html": [
       "<ol class=list-inline>\n",
       "\t<li>FALSE</li>\n",
       "\t<li>TRUE</li>\n",
       "\t<li>TRUE</li>\n",
       "\t<li>TRUE</li>\n",
       "\t<li>TRUE</li>\n",
       "\t<li>TRUE</li>\n",
       "\t<li>FALSE</li>\n",
       "\t<li>FALSE</li>\n",
       "\t<li>FALSE</li>\n",
       "\t<li>FALSE</li>\n",
       "</ol>\n"
      ],
      "text/latex": [
       "\\begin{enumerate*}\n",
       "\\item FALSE\n",
       "\\item TRUE\n",
       "\\item TRUE\n",
       "\\item TRUE\n",
       "\\item TRUE\n",
       "\\item TRUE\n",
       "\\item FALSE\n",
       "\\item FALSE\n",
       "\\item FALSE\n",
       "\\item FALSE\n",
       "\\end{enumerate*}\n"
      ],
      "text/markdown": [
       "1. FALSE\n",
       "2. TRUE\n",
       "3. TRUE\n",
       "4. TRUE\n",
       "5. TRUE\n",
       "6. TRUE\n",
       "7. FALSE\n",
       "8. FALSE\n",
       "9. FALSE\n",
       "10. FALSE\n",
       "\n",
       "\n"
      ],
      "text/plain": [
       " [1] FALSE  TRUE  TRUE  TRUE  TRUE  TRUE FALSE FALSE FALSE FALSE"
      ]
     },
     "metadata": {},
     "output_type": "display_data"
    }
   ],
   "source": [
    "#to find out if an element belongs to a vector\n",
    "x=1:10\n",
    "y=2:6\n",
    "x%in%y"
   ]
  },
  {
   "cell_type": "code",
   "execution_count": 41,
   "id": "20218864",
   "metadata": {},
   "outputs": [
    {
     "name": "stdout",
     "output_type": "stream",
     "text": [
      "[1] \"Both conditions are true\"\n"
     ]
    }
   ],
   "source": [
    "#and operator\n",
    "a <- 200\n",
    "b <- 33\n",
    "c <- 500\n",
    "\n",
    "if (a > b & c > a) {\n",
    "  print(\"Both conditions are true\")\n",
    "}"
   ]
  },
  {
   "cell_type": "code",
   "execution_count": 42,
   "id": "6687241b",
   "metadata": {},
   "outputs": [
    {
     "name": "stdout",
     "output_type": "stream",
     "text": [
      "[1] \"At least one of the conditions is true\"\n"
     ]
    }
   ],
   "source": [
    "#or operator\n",
    "a <- 200\n",
    "b <- 33\n",
    "c <- 500\n",
    "\n",
    "if (a > b | a > c) {\n",
    "  print(\"At least one of the conditions is true\")\n",
    "}"
   ]
  },
  {
   "cell_type": "code",
   "execution_count": 44,
   "id": "68e73b00",
   "metadata": {},
   "outputs": [
    {
     "name": "stdout",
     "output_type": "stream",
     "text": [
      "[1] 1\n",
      "[1] 2\n",
      "[1] 3\n"
     ]
    }
   ],
   "source": [
    "#while and break\n",
    "i <- 1\n",
    "while (i < 6) {\n",
    "  print(i)\n",
    "  i <- i + 1\n",
    "  if (i == 4) {\n",
    "    break\n",
    "  }\n",
    "}"
   ]
  },
  {
   "cell_type": "code",
   "execution_count": 45,
   "id": "b2e4a7d3",
   "metadata": {},
   "outputs": [
    {
     "name": "stdout",
     "output_type": "stream",
     "text": [
      "[1] 1\n",
      "[1] 2\n",
      "[1] 4\n",
      "[1] 5\n",
      "[1] 6\n"
     ]
    }
   ],
   "source": [
    "#next statement\n",
    "i <- 0\n",
    "while (i < 6) {\n",
    "  i <- i + 1\n",
    "  if (i == 3) {\n",
    "    next #skips value 3\n",
    "  }\n",
    "  print(i)\n",
    "}"
   ]
  },
  {
   "cell_type": "code",
   "execution_count": 48,
   "id": "b33a6fe9",
   "metadata": {},
   "outputs": [
    {
     "name": "stdout",
     "output_type": "stream",
     "text": [
      "[1] \"apple\"\n",
      "[1] \"banana\"\n",
      "[1] \"cherry\"\n"
     ]
    }
   ],
   "source": [
    "#list\n",
    "fruits <- list(\"apple\", \"banana\", \"cherry\")\n",
    "for (x in fruits) {\n",
    "  print(x)\n",
    "}"
   ]
  },
  {
   "cell_type": "code",
   "execution_count": 49,
   "id": "43d8fd9f",
   "metadata": {},
   "outputs": [
    {
     "name": "stdout",
     "output_type": "stream",
     "text": [
      "[1] \"Hello World!\"\n"
     ]
    }
   ],
   "source": [
    "#functions\n",
    "my_function <- function() {\n",
    "  print(\"Hello World!\")\n",
    "}\n",
    "\n",
    "my_function() # call the function named my_function"
   ]
  },
  {
   "cell_type": "code",
   "execution_count": 51,
   "id": "d2a7f630",
   "metadata": {},
   "outputs": [
    {
     "data": {
      "text/html": [
       "'manya hegde'"
      ],
      "text/latex": [
       "'manya hegde'"
      ],
      "text/markdown": [
       "'manya hegde'"
      ],
      "text/plain": [
       "[1] \"manya hegde\""
      ]
     },
     "metadata": {},
     "output_type": "display_data"
    }
   ],
   "source": [
    "name<-function(fname){\n",
    "    paste(fname,'hegde')\n",
    "}\n",
    "name('manya')"
   ]
  },
  {
   "cell_type": "code",
   "execution_count": 53,
   "id": "d344f70a",
   "metadata": {},
   "outputs": [
    {
     "data": {
      "text/html": [
       "10"
      ],
      "text/latex": [
       "10"
      ],
      "text/markdown": [
       "10"
      ],
      "text/plain": [
       "[1] 10"
      ]
     },
     "metadata": {},
     "output_type": "display_data"
    }
   ],
   "source": [
    "multiply<-function(x,y){\n",
    "    return (x*y)\n",
    "}\n",
    "multiply(5,2)"
   ]
  },
  {
   "cell_type": "code",
   "execution_count": 54,
   "id": "166e5a45",
   "metadata": {},
   "outputs": [
    {
     "data": {
      "text/html": [
       "10"
      ],
      "text/latex": [
       "10"
      ],
      "text/markdown": [
       "10"
      ],
      "text/plain": [
       "[1] 10"
      ]
     },
     "metadata": {},
     "output_type": "display_data"
    }
   ],
   "source": [
    "#nested function\n",
    "Nested_function <- function(x, y) {\n",
    "  a <- x + y\n",
    "  return(a)\n",
    "}\n",
    "\n",
    "Nested_function(Nested_function(2,2), Nested_function(3,3))"
   ]
  },
  {
   "cell_type": "code",
   "execution_count": 55,
   "id": "29c7aca6",
   "metadata": {},
   "outputs": [
    {
     "data": {
      "text/html": [
       "'R is awesome'"
      ],
      "text/latex": [
       "'R is awesome'"
      ],
      "text/markdown": [
       "'R is awesome'"
      ],
      "text/plain": [
       "[1] \"R is awesome\""
      ]
     },
     "metadata": {},
     "output_type": "display_data"
    }
   ],
   "source": [
    "txt <- \"awesome\"\n",
    "my_function <- function() {\n",
    "  paste(\"R is\", txt)\n",
    "}\n",
    "\n",
    "my_function()"
   ]
  },
  {
   "cell_type": "code",
   "execution_count": 10,
   "id": "9364ba9f",
   "metadata": {},
   "outputs": [
    {
     "data": {
      "text/html": [
       "<ol>\n",
       "\t<li>'a'</li>\n",
       "\t<li>4</li>\n",
       "\t<li>'o'</li>\n",
       "\t<li>'i'</li>\n",
       "\t<li>1</li>\n",
       "</ol>\n"
      ],
      "text/latex": [
       "\\begin{enumerate}\n",
       "\\item 'a'\n",
       "\\item 4\n",
       "\\item 'o'\n",
       "\\item 'i'\n",
       "\\item 1\n",
       "\\end{enumerate}\n"
      ],
      "text/markdown": [
       "1. 'a'\n",
       "2. 4\n",
       "3. 'o'\n",
       "4. 'i'\n",
       "5. 1\n",
       "\n",
       "\n"
      ],
      "text/plain": [
       "[[1]]\n",
       "[1] \"a\"\n",
       "\n",
       "[[2]]\n",
       "[1] 4\n",
       "\n",
       "[[3]]\n",
       "[1] \"o\"\n",
       "\n",
       "[[4]]\n",
       "[1] \"i\"\n",
       "\n",
       "[[5]]\n",
       "[1] 1\n"
      ]
     },
     "metadata": {},
     "output_type": "display_data"
    },
    {
     "data": {
      "text/html": [
       "<ol class=list-inline>\n",
       "\t<li>'apple'</li>\n",
       "\t<li>'chikku'</li>\n",
       "\t<li>'0'</li>\n",
       "\t<li>'8'</li>\n",
       "</ol>\n"
      ],
      "text/latex": [
       "\\begin{enumerate*}\n",
       "\\item 'apple'\n",
       "\\item 'chikku'\n",
       "\\item '0'\n",
       "\\item '8'\n",
       "\\end{enumerate*}\n"
      ],
      "text/markdown": [
       "1. 'apple'\n",
       "2. 'chikku'\n",
       "3. '0'\n",
       "4. '8'\n",
       "\n",
       "\n"
      ],
      "text/plain": [
       "[1] \"apple\"  \"chikku\" \"0\"      \"8\"     "
      ]
     },
     "metadata": {},
     "output_type": "display_data"
    },
    {
     "data": {
      "text/html": [
       "<ol class=list-inline>\n",
       "\t<li>1</li>\n",
       "\t<li>2</li>\n",
       "\t<li>3</li>\n",
       "\t<li>4</li>\n",
       "\t<li>5</li>\n",
       "\t<li>6</li>\n",
       "\t<li>7</li>\n",
       "\t<li>8</li>\n",
       "\t<li>9</li>\n",
       "\t<li>10</li>\n",
       "</ol>\n"
      ],
      "text/latex": [
       "\\begin{enumerate*}\n",
       "\\item 1\n",
       "\\item 2\n",
       "\\item 3\n",
       "\\item 4\n",
       "\\item 5\n",
       "\\item 6\n",
       "\\item 7\n",
       "\\item 8\n",
       "\\item 9\n",
       "\\item 10\n",
       "\\end{enumerate*}\n"
      ],
      "text/markdown": [
       "1. 1\n",
       "2. 2\n",
       "3. 3\n",
       "4. 4\n",
       "5. 5\n",
       "6. 6\n",
       "7. 7\n",
       "8. 8\n",
       "9. 9\n",
       "10. 10\n",
       "\n",
       "\n"
      ],
      "text/plain": [
       " [1]  1  2  3  4  5  6  7  8  9 10"
      ]
     },
     "metadata": {},
     "output_type": "display_data"
    },
    {
     "data": {
      "text/html": [
       "10"
      ],
      "text/latex": [
       "10"
      ],
      "text/markdown": [
       "10"
      ],
      "text/plain": [
       "[1] 10"
      ]
     },
     "metadata": {},
     "output_type": "display_data"
    }
   ],
   "source": [
    "#vectors-list of items of same type\n",
    "\n",
    "#a list\n",
    "random<-list('a',4,'o','i',1)\n",
    "\n",
    "#a vector\n",
    "fruits<-c('apple','chikku',0, 8)#will convert 0 & 8 to string\n",
    "numbers <- 1:10\n",
    "\n",
    "random\n",
    "fruits\n",
    "numbers\n",
    "length(numbers)"
   ]
  },
  {
   "cell_type": "code",
   "execution_count": 18,
   "id": "b57635c7",
   "metadata": {},
   "outputs": [
    {
     "data": {
      "text/html": [
       "<ol class=list-inline>\n",
       "\t<li>'rahul'</li>\n",
       "\t<li>'sanjay'</li>\n",
       "\t<li>'priya'</li>\n",
       "\t<li>'alia'</li>\n",
       "</ol>\n"
      ],
      "text/latex": [
       "\\begin{enumerate*}\n",
       "\\item 'rahul'\n",
       "\\item 'sanjay'\n",
       "\\item 'priya'\n",
       "\\item 'alia'\n",
       "\\end{enumerate*}\n"
      ],
      "text/markdown": [
       "1. 'rahul'\n",
       "2. 'sanjay'\n",
       "3. 'priya'\n",
       "4. 'alia'\n",
       "\n",
       "\n"
      ],
      "text/plain": [
       "[1] \"rahul\"  \"sanjay\" \"priya\"  \"alia\"  "
      ]
     },
     "metadata": {},
     "output_type": "display_data"
    },
    {
     "data": {
      "text/html": [
       "<ol class=list-inline>\n",
       "\t<li>'alia'</li>\n",
       "\t<li>'priya'</li>\n",
       "\t<li>'rahul'</li>\n",
       "\t<li>'sanjay'</li>\n",
       "</ol>\n"
      ],
      "text/latex": [
       "\\begin{enumerate*}\n",
       "\\item 'alia'\n",
       "\\item 'priya'\n",
       "\\item 'rahul'\n",
       "\\item 'sanjay'\n",
       "\\end{enumerate*}\n"
      ],
      "text/markdown": [
       "1. 'alia'\n",
       "2. 'priya'\n",
       "3. 'rahul'\n",
       "4. 'sanjay'\n",
       "\n",
       "\n"
      ],
      "text/plain": [
       "[1] \"alia\"   \"priya\"  \"rahul\"  \"sanjay\""
      ]
     },
     "metadata": {},
     "output_type": "display_data"
    },
    {
     "data": {
      "text/html": [
       "'rahul'"
      ],
      "text/latex": [
       "'rahul'"
      ],
      "text/markdown": [
       "'rahul'"
      ],
      "text/plain": [
       "[1] \"rahul\""
      ]
     },
     "metadata": {},
     "output_type": "display_data"
    },
    {
     "data": {
      "text/html": [
       "<ol class=list-inline>\n",
       "\t<li>'rahul'</li>\n",
       "\t<li>'priya'</li>\n",
       "</ol>\n"
      ],
      "text/latex": [
       "\\begin{enumerate*}\n",
       "\\item 'rahul'\n",
       "\\item 'priya'\n",
       "\\end{enumerate*}\n"
      ],
      "text/markdown": [
       "1. 'rahul'\n",
       "2. 'priya'\n",
       "\n",
       "\n"
      ],
      "text/plain": [
       "[1] \"rahul\" \"priya\""
      ]
     },
     "metadata": {},
     "output_type": "display_data"
    },
    {
     "data": {
      "text/html": [
       "<ol class=list-inline>\n",
       "\t<li>'sanjay'</li>\n",
       "\t<li>'priya'</li>\n",
       "\t<li>'alia'</li>\n",
       "</ol>\n"
      ],
      "text/latex": [
       "\\begin{enumerate*}\n",
       "\\item 'sanjay'\n",
       "\\item 'priya'\n",
       "\\item 'alia'\n",
       "\\end{enumerate*}\n"
      ],
      "text/markdown": [
       "1. 'sanjay'\n",
       "2. 'priya'\n",
       "3. 'alia'\n",
       "\n",
       "\n"
      ],
      "text/plain": [
       "[1] \"sanjay\" \"priya\"  \"alia\"  "
      ]
     },
     "metadata": {},
     "output_type": "display_data"
    }
   ],
   "source": [
    "#sorting a vector\n",
    "vector<-c('rahul','sanjay','priya','alia')\n",
    "vector\n",
    "sort(vector)\n",
    "\n",
    "#to access the first element of vector\n",
    "vector[1]\n",
    "\n",
    "#to access the first and third item (banana and orange)\n",
    "vector[c(1, 3)]\n",
    "\n",
    "#to access all items except for the first item\n",
    "vector[c(-1)]"
   ]
  },
  {
   "cell_type": "code",
   "execution_count": 19,
   "id": "b46406a5",
   "metadata": {},
   "outputs": [
    {
     "data": {
      "text/html": [
       "<ol class=list-inline>\n",
       "\t<li>'priya'</li>\n",
       "\t<li>'alia'</li>\n",
       "</ol>\n"
      ],
      "text/latex": [
       "\\begin{enumerate*}\n",
       "\\item 'priya'\n",
       "\\item 'alia'\n",
       "\\end{enumerate*}\n"
      ],
      "text/markdown": [
       "1. 'priya'\n",
       "2. 'alia'\n",
       "\n",
       "\n"
      ],
      "text/plain": [
       "[1] \"priya\" \"alia\" "
      ]
     },
     "metadata": {},
     "output_type": "display_data"
    }
   ],
   "source": [
    "vector[c(-1,-2)]"
   ]
  },
  {
   "cell_type": "code",
   "execution_count": 21,
   "id": "893cc2d9",
   "metadata": {},
   "outputs": [
    {
     "data": {
      "text/html": [
       "<ol class=list-inline>\n",
       "\t<li>'rahul'</li>\n",
       "\t<li>'dev'</li>\n",
       "\t<li>'priya'</li>\n",
       "\t<li>'alia'</li>\n",
       "</ol>\n"
      ],
      "text/latex": [
       "\\begin{enumerate*}\n",
       "\\item 'rahul'\n",
       "\\item 'dev'\n",
       "\\item 'priya'\n",
       "\\item 'alia'\n",
       "\\end{enumerate*}\n"
      ],
      "text/markdown": [
       "1. 'rahul'\n",
       "2. 'dev'\n",
       "3. 'priya'\n",
       "4. 'alia'\n",
       "\n",
       "\n"
      ],
      "text/plain": [
       "[1] \"rahul\" \"dev\"   \"priya\" \"alia\" "
      ]
     },
     "metadata": {},
     "output_type": "display_data"
    }
   ],
   "source": [
    "#to change an item in the vector\n",
    "vector[2]<-'dev'\n",
    "vector"
   ]
  },
  {
   "cell_type": "code",
   "execution_count": 24,
   "id": "842db26a",
   "metadata": {},
   "outputs": [
    {
     "data": {
      "text/html": [
       "<ol class=list-inline>\n",
       "\t<li>1</li>\n",
       "\t<li>1</li>\n",
       "\t<li>1</li>\n",
       "\t<li>2</li>\n",
       "\t<li>2</li>\n",
       "\t<li>2</li>\n",
       "\t<li>3</li>\n",
       "\t<li>3</li>\n",
       "\t<li>3</li>\n",
       "</ol>\n"
      ],
      "text/latex": [
       "\\begin{enumerate*}\n",
       "\\item 1\n",
       "\\item 1\n",
       "\\item 1\n",
       "\\item 2\n",
       "\\item 2\n",
       "\\item 2\n",
       "\\item 3\n",
       "\\item 3\n",
       "\\item 3\n",
       "\\end{enumerate*}\n"
      ],
      "text/markdown": [
       "1. 1\n",
       "2. 1\n",
       "3. 1\n",
       "4. 2\n",
       "5. 2\n",
       "6. 2\n",
       "7. 3\n",
       "8. 3\n",
       "9. 3\n",
       "\n",
       "\n"
      ],
      "text/plain": [
       "[1] 1 1 1 2 2 2 3 3 3"
      ]
     },
     "metadata": {},
     "output_type": "display_data"
    },
    {
     "data": {
      "text/html": [
       "<ol class=list-inline>\n",
       "\t<li>1</li>\n",
       "\t<li>2</li>\n",
       "\t<li>3</li>\n",
       "\t<li>1</li>\n",
       "\t<li>2</li>\n",
       "\t<li>3</li>\n",
       "\t<li>1</li>\n",
       "\t<li>2</li>\n",
       "\t<li>3</li>\n",
       "</ol>\n"
      ],
      "text/latex": [
       "\\begin{enumerate*}\n",
       "\\item 1\n",
       "\\item 2\n",
       "\\item 3\n",
       "\\item 1\n",
       "\\item 2\n",
       "\\item 3\n",
       "\\item 1\n",
       "\\item 2\n",
       "\\item 3\n",
       "\\end{enumerate*}\n"
      ],
      "text/markdown": [
       "1. 1\n",
       "2. 2\n",
       "3. 3\n",
       "4. 1\n",
       "5. 2\n",
       "6. 3\n",
       "7. 1\n",
       "8. 2\n",
       "9. 3\n",
       "\n",
       "\n"
      ],
      "text/plain": [
       "[1] 1 2 3 1 2 3 1 2 3"
      ]
     },
     "metadata": {},
     "output_type": "display_data"
    },
    {
     "data": {
      "text/html": [
       "<ol class=list-inline>\n",
       "\t<li>1</li>\n",
       "\t<li>1</li>\n",
       "\t<li>1</li>\n",
       "\t<li>1</li>\n",
       "\t<li>1</li>\n",
       "\t<li>2</li>\n",
       "\t<li>2</li>\n",
       "\t<li>3</li>\n",
       "</ol>\n"
      ],
      "text/latex": [
       "\\begin{enumerate*}\n",
       "\\item 1\n",
       "\\item 1\n",
       "\\item 1\n",
       "\\item 1\n",
       "\\item 1\n",
       "\\item 2\n",
       "\\item 2\n",
       "\\item 3\n",
       "\\end{enumerate*}\n"
      ],
      "text/markdown": [
       "1. 1\n",
       "2. 1\n",
       "3. 1\n",
       "4. 1\n",
       "5. 1\n",
       "6. 2\n",
       "7. 2\n",
       "8. 3\n",
       "\n",
       "\n"
      ],
      "text/plain": [
       "[1] 1 1 1 1 1 2 2 3"
      ]
     },
     "metadata": {},
     "output_type": "display_data"
    }
   ],
   "source": [
    "#repeat vector\n",
    "\n",
    "repeat_each <- rep(c(1,2,3), each = 3)\n",
    "repeat_each\n",
    "\n",
    "repeat_times <- rep(c(1,2,3), times = 3)\n",
    "repeat_times\n",
    "\n",
    "repeat_indepent <- rep(c(1,2,3), times = c(5,2,1))\n",
    "repeat_indepent"
   ]
  },
  {
   "cell_type": "code",
   "execution_count": 25,
   "id": "3b010676",
   "metadata": {},
   "outputs": [
    {
     "data": {
      "text/html": [
       "<ol class=list-inline>\n",
       "\t<li>0</li>\n",
       "\t<li>20</li>\n",
       "\t<li>40</li>\n",
       "\t<li>60</li>\n",
       "\t<li>80</li>\n",
       "\t<li>100</li>\n",
       "</ol>\n"
      ],
      "text/latex": [
       "\\begin{enumerate*}\n",
       "\\item 0\n",
       "\\item 20\n",
       "\\item 40\n",
       "\\item 60\n",
       "\\item 80\n",
       "\\item 100\n",
       "\\end{enumerate*}\n"
      ],
      "text/markdown": [
       "1. 0\n",
       "2. 20\n",
       "3. 40\n",
       "4. 60\n",
       "5. 80\n",
       "6. 100\n",
       "\n",
       "\n"
      ],
      "text/plain": [
       "[1]   0  20  40  60  80 100"
      ]
     },
     "metadata": {},
     "output_type": "display_data"
    }
   ],
   "source": [
    "#generating sequenced vectors\n",
    "numbers<-seq(from = 0, to = 100, by = 20)\n",
    "numbers"
   ]
  },
  {
   "cell_type": "code",
   "execution_count": 28,
   "id": "302eb42a",
   "metadata": {},
   "outputs": [
    {
     "data": {
      "text/html": [
       "<ol>\n",
       "\t<li>'apple'</li>\n",
       "\t<li>'orange'</li>\n",
       "\t<li>'banana'</li>\n",
       "\t<li>'cherry'</li>\n",
       "</ol>\n"
      ],
      "text/latex": [
       "\\begin{enumerate}\n",
       "\\item 'apple'\n",
       "\\item 'orange'\n",
       "\\item 'banana'\n",
       "\\item 'cherry'\n",
       "\\end{enumerate}\n"
      ],
      "text/markdown": [
       "1. 'apple'\n",
       "2. 'orange'\n",
       "3. 'banana'\n",
       "4. 'cherry'\n",
       "\n",
       "\n"
      ],
      "text/plain": [
       "[[1]]\n",
       "[1] \"apple\"\n",
       "\n",
       "[[2]]\n",
       "[1] \"orange\"\n",
       "\n",
       "[[3]]\n",
       "[1] \"banana\"\n",
       "\n",
       "[[4]]\n",
       "[1] \"cherry\"\n"
      ]
     },
     "metadata": {},
     "output_type": "display_data"
    }
   ],
   "source": [
    "#add item to the list\n",
    "thislist <- list(\"apple\", \"banana\", \"cherry\")\n",
    "append(thislist, \"orange\",after = 1)"
   ]
  },
  {
   "cell_type": "code",
   "execution_count": 32,
   "id": "d8d06698",
   "metadata": {},
   "outputs": [
    {
     "data": {
      "text/html": [
       "<ol>\n",
       "\t<li>'banana'</li>\n",
       "\t<li>'cherry'</li>\n",
       "</ol>\n"
      ],
      "text/latex": [
       "\\begin{enumerate}\n",
       "\\item 'banana'\n",
       "\\item 'cherry'\n",
       "\\end{enumerate}\n"
      ],
      "text/markdown": [
       "1. 'banana'\n",
       "2. 'cherry'\n",
       "\n",
       "\n"
      ],
      "text/plain": [
       "[[1]]\n",
       "[1] \"banana\"\n",
       "\n",
       "[[2]]\n",
       "[1] \"cherry\"\n"
      ]
     },
     "metadata": {},
     "output_type": "display_data"
    }
   ],
   "source": [
    "#remove an item\n",
    "thislist <- list(\"apple\", \"banana\", \"cherry\")\n",
    "thislist<- thislist[-1]\n",
    "thislist"
   ]
  },
  {
   "cell_type": "code",
   "execution_count": 33,
   "id": "022ba18f",
   "metadata": {},
   "outputs": [
    {
     "data": {
      "text/html": [
       "<ol>\n",
       "\t<li>'banana'</li>\n",
       "\t<li>'cherry'</li>\n",
       "</ol>\n"
      ],
      "text/latex": [
       "\\begin{enumerate}\n",
       "\\item 'banana'\n",
       "\\item 'cherry'\n",
       "\\end{enumerate}\n"
      ],
      "text/markdown": [
       "1. 'banana'\n",
       "2. 'cherry'\n",
       "\n",
       "\n"
      ],
      "text/plain": [
       "[[1]]\n",
       "[1] \"banana\"\n",
       "\n",
       "[[2]]\n",
       "[1] \"cherry\"\n"
      ]
     },
     "metadata": {},
     "output_type": "display_data"
    }
   ],
   "source": [
    "#range of indexes\n",
    "thislist <- list(\"apple\", \"banana\", \"cherry\")\n",
    "thislist[2:3]"
   ]
  },
  {
   "cell_type": "code",
   "execution_count": 34,
   "id": "0f7217de",
   "metadata": {},
   "outputs": [
    {
     "data": {
      "text/html": [
       "<ol>\n",
       "\t<li>'a'</li>\n",
       "\t<li>'b'</li>\n",
       "\t<li>'c'</li>\n",
       "\t<li>1</li>\n",
       "\t<li>2</li>\n",
       "\t<li>3</li>\n",
       "</ol>\n"
      ],
      "text/latex": [
       "\\begin{enumerate}\n",
       "\\item 'a'\n",
       "\\item 'b'\n",
       "\\item 'c'\n",
       "\\item 1\n",
       "\\item 2\n",
       "\\item 3\n",
       "\\end{enumerate}\n"
      ],
      "text/markdown": [
       "1. 'a'\n",
       "2. 'b'\n",
       "3. 'c'\n",
       "4. 1\n",
       "5. 2\n",
       "6. 3\n",
       "\n",
       "\n"
      ],
      "text/plain": [
       "[[1]]\n",
       "[1] \"a\"\n",
       "\n",
       "[[2]]\n",
       "[1] \"b\"\n",
       "\n",
       "[[3]]\n",
       "[1] \"c\"\n",
       "\n",
       "[[4]]\n",
       "[1] 1\n",
       "\n",
       "[[5]]\n",
       "[1] 2\n",
       "\n",
       "[[6]]\n",
       "[1] 3\n"
      ]
     },
     "metadata": {},
     "output_type": "display_data"
    }
   ],
   "source": [
    "#join 2 lists\n",
    "list1 <- list(\"a\", \"b\", \"c\")\n",
    "list2 <- list(1,2,3)\n",
    "list3 <- c(list1,list2)\n",
    "list3"
   ]
  },
  {
   "cell_type": "code",
   "execution_count": 67,
   "id": "c083f688",
   "metadata": {},
   "outputs": [
    {
     "data": {
      "text/html": [
       "<table>\n",
       "<tbody>\n",
       "\t<tr><td>1</td><td>3</td><td>5</td></tr>\n",
       "\t<tr><td>2</td><td>4</td><td>6</td></tr>\n",
       "</tbody>\n",
       "</table>\n"
      ],
      "text/latex": [
       "\\begin{tabular}{lll}\n",
       "\t 1 & 3 & 5\\\\\n",
       "\t 2 & 4 & 6\\\\\n",
       "\\end{tabular}\n"
      ],
      "text/markdown": [
       "\n",
       "| 1 | 3 | 5 |\n",
       "| 2 | 4 | 6 |\n",
       "\n"
      ],
      "text/plain": [
       "     [,1] [,2] [,3]\n",
       "[1,] 1    3    5   \n",
       "[2,] 2    4    6   "
      ]
     },
     "metadata": {},
     "output_type": "display_data"
    }
   ],
   "source": [
    "# Create a matrix\n",
    "thismatrix <- matrix(c(1,2,3,4,5,6), nrow = 2, ncol = 3)\n",
    "thismatrix"
   ]
  },
  {
   "cell_type": "code",
   "execution_count": 68,
   "id": "976b8c68",
   "metadata": {},
   "outputs": [
    {
     "data": {
      "text/html": [
       "3"
      ],
      "text/latex": [
       "3"
      ],
      "text/markdown": [
       "3"
      ],
      "text/plain": [
       "[1] 3"
      ]
     },
     "metadata": {},
     "output_type": "display_data"
    }
   ],
   "source": [
    "thismatrix[1,2]"
   ]
  },
  {
   "cell_type": "code",
   "execution_count": 69,
   "id": "e9e017cd",
   "metadata": {},
   "outputs": [
    {
     "data": {
      "text/html": [
       "<table>\n",
       "<tbody>\n",
       "\t<tr><td>1</td><td>3</td></tr>\n",
       "\t<tr><td>2</td><td>4</td></tr>\n",
       "</tbody>\n",
       "</table>\n"
      ],
      "text/latex": [
       "\\begin{tabular}{ll}\n",
       "\t 1 & 3\\\\\n",
       "\t 2 & 4\\\\\n",
       "\\end{tabular}\n"
      ],
      "text/markdown": [
       "\n",
       "| 1 | 3 |\n",
       "| 2 | 4 |\n",
       "\n"
      ],
      "text/plain": [
       "     [,1] [,2]\n",
       "[1,] 1    3   \n",
       "[2,] 2    4   "
      ]
     },
     "metadata": {},
     "output_type": "display_data"
    }
   ],
   "source": [
    "thismatrix[,c(1,2)] #all rows,1st and 2nd columns"
   ]
  },
  {
   "cell_type": "code",
   "execution_count": 70,
   "id": "8685c917",
   "metadata": {},
   "outputs": [
    {
     "data": {
      "text/html": [
       "<table>\n",
       "<tbody>\n",
       "\t<tr><td>1</td><td>3</td><td>5</td><td>7</td></tr>\n",
       "\t<tr><td>2</td><td>4</td><td>6</td><td>8</td></tr>\n",
       "</tbody>\n",
       "</table>\n"
      ],
      "text/latex": [
       "\\begin{tabular}{llll}\n",
       "\t 1 & 3 & 5 & 7\\\\\n",
       "\t 2 & 4 & 6 & 8\\\\\n",
       "\\end{tabular}\n"
      ],
      "text/markdown": [
       "\n",
       "| 1 | 3 | 5 | 7 |\n",
       "| 2 | 4 | 6 | 8 |\n",
       "\n"
      ],
      "text/plain": [
       "     [,1] [,2] [,3] [,4]\n",
       "[1,] 1    3    5    7   \n",
       "[2,] 2    4    6    8   "
      ]
     },
     "metadata": {},
     "output_type": "display_data"
    }
   ],
   "source": [
    "#to add additional column\n",
    "thismatrix<-cbind(thismatrix,c(7,8))\n",
    "thismatrix"
   ]
  },
  {
   "cell_type": "code",
   "execution_count": 71,
   "id": "30bea8fc",
   "metadata": {},
   "outputs": [
    {
     "data": {
      "text/html": [
       "<table>\n",
       "<tbody>\n",
       "\t<tr><td>1</td><td>3</td><td>5</td><td>7</td></tr>\n",
       "\t<tr><td>2</td><td>4</td><td>6</td><td>8</td></tr>\n",
       "\t<tr><td>3</td><td>2</td><td>1</td><td>5</td></tr>\n",
       "</tbody>\n",
       "</table>\n"
      ],
      "text/latex": [
       "\\begin{tabular}{llll}\n",
       "\t 1 & 3 & 5 & 7\\\\\n",
       "\t 2 & 4 & 6 & 8\\\\\n",
       "\t 3 & 2 & 1 & 5\\\\\n",
       "\\end{tabular}\n"
      ],
      "text/markdown": [
       "\n",
       "| 1 | 3 | 5 | 7 |\n",
       "| 2 | 4 | 6 | 8 |\n",
       "| 3 | 2 | 1 | 5 |\n",
       "\n"
      ],
      "text/plain": [
       "     [,1] [,2] [,3] [,4]\n",
       "[1,] 1    3    5    7   \n",
       "[2,] 2    4    6    8   \n",
       "[3,] 3    2    1    5   "
      ]
     },
     "metadata": {},
     "output_type": "display_data"
    }
   ],
   "source": [
    "#to add additional row\n",
    "thismatrix<-rbind(thismatrix,c(3,2,1,5))\n",
    "thismatrix"
   ]
  },
  {
   "cell_type": "code",
   "execution_count": 72,
   "id": "551519a5",
   "metadata": {},
   "outputs": [
    {
     "data": {
      "text/html": [
       "<table>\n",
       "<tbody>\n",
       "\t<tr><td>4</td><td>6</td><td>8</td></tr>\n",
       "\t<tr><td>2</td><td>1</td><td>5</td></tr>\n",
       "</tbody>\n",
       "</table>\n"
      ],
      "text/latex": [
       "\\begin{tabular}{lll}\n",
       "\t 4 & 6 & 8\\\\\n",
       "\t 2 & 1 & 5\\\\\n",
       "\\end{tabular}\n"
      ],
      "text/markdown": [
       "\n",
       "| 4 | 6 | 8 |\n",
       "| 2 | 1 | 5 |\n",
       "\n"
      ],
      "text/plain": [
       "     [,1] [,2] [,3]\n",
       "[1,] 4    6    8   \n",
       "[2,] 2    1    5   "
      ]
     },
     "metadata": {},
     "output_type": "display_data"
    }
   ],
   "source": [
    "#Remove the first row and the first column\n",
    "thismatrix <- thismatrix[-c(1), -c(1)]\n",
    "thismatrix"
   ]
  },
  {
   "cell_type": "code",
   "execution_count": 74,
   "id": "a286a571",
   "metadata": {},
   "outputs": [
    {
     "data": {
      "text/html": [
       "TRUE"
      ],
      "text/latex": [
       "TRUE"
      ],
      "text/markdown": [
       "TRUE"
      ],
      "text/plain": [
       "[1] TRUE"
      ]
     },
     "metadata": {},
     "output_type": "display_data"
    }
   ],
   "source": [
    "#to check if an item is present int the matrix\n",
    "8 %in% thismatrix"
   ]
  },
  {
   "cell_type": "code",
   "execution_count": 75,
   "id": "5ff0e43e",
   "metadata": {},
   "outputs": [
    {
     "data": {
      "text/html": [
       "<ol class=list-inline>\n",
       "\t<li>2</li>\n",
       "\t<li>3</li>\n",
       "</ol>\n"
      ],
      "text/latex": [
       "\\begin{enumerate*}\n",
       "\\item 2\n",
       "\\item 3\n",
       "\\end{enumerate*}\n"
      ],
      "text/markdown": [
       "1. 2\n",
       "2. 3\n",
       "\n",
       "\n"
      ],
      "text/plain": [
       "[1] 2 3"
      ]
     },
     "metadata": {},
     "output_type": "display_data"
    }
   ],
   "source": [
    "#dimension\n",
    "dim(thismatrix)"
   ]
  },
  {
   "cell_type": "code",
   "execution_count": 76,
   "id": "1caa81d3",
   "metadata": {},
   "outputs": [
    {
     "data": {
      "text/html": [
       "6"
      ],
      "text/latex": [
       "6"
      ],
      "text/markdown": [
       "6"
      ],
      "text/plain": [
       "[1] 6"
      ]
     },
     "metadata": {},
     "output_type": "display_data"
    }
   ],
   "source": [
    "#length\n",
    "length(thismatrix)"
   ]
  },
  {
   "cell_type": "code",
   "execution_count": 77,
   "id": "49efdcaa",
   "metadata": {},
   "outputs": [
    {
     "name": "stdout",
     "output_type": "stream",
     "text": [
      "[1] \"apple\"\n",
      "[1] \"cherry\"\n",
      "[1] \"banana\"\n",
      "[1] \"orange\"\n"
     ]
    }
   ],
   "source": [
    "#loop through a matrix\n",
    "thismatrix <- matrix(c(\"apple\", \"banana\", \"cherry\", \"orange\"), nrow = 2, ncol = 2)\n",
    "\n",
    "for (rows in 1:nrow(thismatrix)) {\n",
    "  for (columns in 1:ncol(thismatrix)) {\n",
    "    print(thismatrix[rows, columns])\n",
    "  }\n",
    "}"
   ]
  },
  {
   "cell_type": "code",
   "execution_count": 79,
   "id": "01bc8730",
   "metadata": {},
   "outputs": [
    {
     "data": {
      "text/html": [
       "<ol class=list-inline>\n",
       "\t<li>1</li>\n",
       "\t<li>2</li>\n",
       "\t<li>3</li>\n",
       "\t<li>4</li>\n",
       "\t<li>5</li>\n",
       "\t<li>6</li>\n",
       "\t<li>7</li>\n",
       "\t<li>8</li>\n",
       "\t<li>9</li>\n",
       "\t<li>10</li>\n",
       "\t<li>11</li>\n",
       "\t<li>12</li>\n",
       "\t<li>13</li>\n",
       "\t<li>14</li>\n",
       "\t<li>15</li>\n",
       "\t<li>16</li>\n",
       "\t<li>17</li>\n",
       "\t<li>18</li>\n",
       "\t<li>19</li>\n",
       "\t<li>20</li>\n",
       "\t<li>21</li>\n",
       "\t<li>22</li>\n",
       "\t<li>23</li>\n",
       "\t<li>24</li>\n",
       "</ol>\n"
      ],
      "text/latex": [
       "\\begin{enumerate*}\n",
       "\\item 1\n",
       "\\item 2\n",
       "\\item 3\n",
       "\\item 4\n",
       "\\item 5\n",
       "\\item 6\n",
       "\\item 7\n",
       "\\item 8\n",
       "\\item 9\n",
       "\\item 10\n",
       "\\item 11\n",
       "\\item 12\n",
       "\\item 13\n",
       "\\item 14\n",
       "\\item 15\n",
       "\\item 16\n",
       "\\item 17\n",
       "\\item 18\n",
       "\\item 19\n",
       "\\item 20\n",
       "\\item 21\n",
       "\\item 22\n",
       "\\item 23\n",
       "\\item 24\n",
       "\\end{enumerate*}\n"
      ],
      "text/markdown": [
       "1. 1\n",
       "2. 2\n",
       "3. 3\n",
       "4. 4\n",
       "5. 5\n",
       "6. 6\n",
       "7. 7\n",
       "8. 8\n",
       "9. 9\n",
       "10. 10\n",
       "11. 11\n",
       "12. 12\n",
       "13. 13\n",
       "14. 14\n",
       "15. 15\n",
       "16. 16\n",
       "17. 17\n",
       "18. 18\n",
       "19. 19\n",
       "20. 20\n",
       "21. 21\n",
       "22. 22\n",
       "23. 23\n",
       "24. 24\n",
       "\n",
       "\n"
      ],
      "text/plain": [
       " [1]  1  2  3  4  5  6  7  8  9 10 11 12 13 14 15 16 17 18 19 20 21 22 23 24"
      ]
     },
     "metadata": {},
     "output_type": "display_data"
    }
   ],
   "source": [
    "# An array with one dimension with values ranging from 1 to 24\n",
    "thisarray <- c(1:24)\n",
    "thisarray"
   ]
  },
  {
   "cell_type": "code",
   "execution_count": 81,
   "id": "ec5fa2ad",
   "metadata": {},
   "outputs": [
    {
     "data": {
      "text/html": [
       "<table>\n",
       "<thead><tr><th scope=col>Training</th><th scope=col>Pulse</th><th scope=col>Duration</th></tr></thead>\n",
       "<tbody>\n",
       "\t<tr><td>Strength</td><td>100     </td><td>60      </td></tr>\n",
       "\t<tr><td>Stamina </td><td>150     </td><td>30      </td></tr>\n",
       "\t<tr><td>Other   </td><td>120     </td><td>45      </td></tr>\n",
       "</tbody>\n",
       "</table>\n"
      ],
      "text/latex": [
       "\\begin{tabular}{r|lll}\n",
       " Training & Pulse & Duration\\\\\n",
       "\\hline\n",
       "\t Strength & 100      & 60      \\\\\n",
       "\t Stamina  & 150      & 30      \\\\\n",
       "\t Other    & 120      & 45      \\\\\n",
       "\\end{tabular}\n"
      ],
      "text/markdown": [
       "\n",
       "| Training | Pulse | Duration |\n",
       "|---|---|---|\n",
       "| Strength | 100      | 60       |\n",
       "| Stamina  | 150      | 30       |\n",
       "| Other    | 120      | 45       |\n",
       "\n"
      ],
      "text/plain": [
       "  Training Pulse Duration\n",
       "1 Strength 100   60      \n",
       "2 Stamina  150   30      \n",
       "3 Other    120   45      "
      ]
     },
     "metadata": {},
     "output_type": "display_data"
    }
   ],
   "source": [
    "# Create a data frame\n",
    "Data_Frame <- data.frame (\n",
    "  Training = c(\"Strength\", \"Stamina\", \"Other\"),\n",
    "  Pulse = c(100, 150, 120),\n",
    "  Duration = c(60, 30, 45)\n",
    ")\n",
    "\n",
    "# Print the data frame\n",
    "Data_Frame"
   ]
  },
  {
   "cell_type": "code",
   "execution_count": 82,
   "id": "b49ababb",
   "metadata": {},
   "outputs": [
    {
     "data": {
      "text/plain": [
       "     Training     Pulse          Duration   \n",
       " Other   :1   Min.   :100.0   Min.   :30.0  \n",
       " Stamina :1   1st Qu.:110.0   1st Qu.:37.5  \n",
       " Strength:1   Median :120.0   Median :45.0  \n",
       "              Mean   :123.3   Mean   :45.0  \n",
       "              3rd Qu.:135.0   3rd Qu.:52.5  \n",
       "              Max.   :150.0   Max.   :60.0  "
      ]
     },
     "metadata": {},
     "output_type": "display_data"
    }
   ],
   "source": [
    "summary(Data_Frame)"
   ]
  },
  {
   "cell_type": "code",
   "execution_count": 84,
   "id": "ad05580f",
   "metadata": {},
   "outputs": [
    {
     "data": {
      "text/html": [
       "<table>\n",
       "<thead><tr><th scope=col>Training</th></tr></thead>\n",
       "<tbody>\n",
       "\t<tr><td>Strength</td></tr>\n",
       "\t<tr><td>Stamina </td></tr>\n",
       "\t<tr><td>Other   </td></tr>\n",
       "</tbody>\n",
       "</table>\n"
      ],
      "text/latex": [
       "\\begin{tabular}{r|l}\n",
       " Training\\\\\n",
       "\\hline\n",
       "\t Strength\\\\\n",
       "\t Stamina \\\\\n",
       "\t Other   \\\\\n",
       "\\end{tabular}\n"
      ],
      "text/markdown": [
       "\n",
       "| Training |\n",
       "|---|\n",
       "| Strength |\n",
       "| Stamina  |\n",
       "| Other    |\n",
       "\n"
      ],
      "text/plain": [
       "  Training\n",
       "1 Strength\n",
       "2 Stamina \n",
       "3 Other   "
      ]
     },
     "metadata": {},
     "output_type": "display_data"
    }
   ],
   "source": [
    "Data_Frame[1]"
   ]
  },
  {
   "cell_type": "code",
   "execution_count": 85,
   "id": "2acccbd7",
   "metadata": {},
   "outputs": [
    {
     "data": {
      "text/html": [
       "<ol class=list-inline>\n",
       "\t<li>Strength</li>\n",
       "\t<li>Stamina</li>\n",
       "\t<li>Other</li>\n",
       "</ol>\n",
       "\n",
       "<details>\n",
       "\t<summary style=display:list-item;cursor:pointer>\n",
       "\t\t<strong>Levels</strong>:\n",
       "\t</summary>\n",
       "\t<ol class=list-inline>\n",
       "\t\t<li>'Other'</li>\n",
       "\t\t<li>'Stamina'</li>\n",
       "\t\t<li>'Strength'</li>\n",
       "\t</ol>\n",
       "</details>"
      ],
      "text/latex": [
       "\\begin{enumerate*}\n",
       "\\item Strength\n",
       "\\item Stamina\n",
       "\\item Other\n",
       "\\end{enumerate*}\n",
       "\n",
       "\\emph{Levels}: \\begin{enumerate*}\n",
       "\\item 'Other'\n",
       "\\item 'Stamina'\n",
       "\\item 'Strength'\n",
       "\\end{enumerate*}\n"
      ],
      "text/markdown": [
       "1. Strength\n",
       "2. Stamina\n",
       "3. Other\n",
       "\n",
       "\n",
       "\n",
       "**Levels**: 1. 'Other'\n",
       "2. 'Stamina'\n",
       "3. 'Strength'\n",
       "\n",
       "\n"
      ],
      "text/plain": [
       "[1] Strength Stamina  Other   \n",
       "Levels: Other Stamina Strength"
      ]
     },
     "metadata": {},
     "output_type": "display_data"
    }
   ],
   "source": [
    "Data_Frame[[\"Training\"]]"
   ]
  },
  {
   "cell_type": "code",
   "execution_count": 86,
   "id": "e968b3a2",
   "metadata": {},
   "outputs": [
    {
     "data": {
      "text/html": [
       "<ol class=list-inline>\n",
       "\t<li>Strength</li>\n",
       "\t<li>Stamina</li>\n",
       "\t<li>Other</li>\n",
       "</ol>\n",
       "\n",
       "<details>\n",
       "\t<summary style=display:list-item;cursor:pointer>\n",
       "\t\t<strong>Levels</strong>:\n",
       "\t</summary>\n",
       "\t<ol class=list-inline>\n",
       "\t\t<li>'Other'</li>\n",
       "\t\t<li>'Stamina'</li>\n",
       "\t\t<li>'Strength'</li>\n",
       "\t</ol>\n",
       "</details>"
      ],
      "text/latex": [
       "\\begin{enumerate*}\n",
       "\\item Strength\n",
       "\\item Stamina\n",
       "\\item Other\n",
       "\\end{enumerate*}\n",
       "\n",
       "\\emph{Levels}: \\begin{enumerate*}\n",
       "\\item 'Other'\n",
       "\\item 'Stamina'\n",
       "\\item 'Strength'\n",
       "\\end{enumerate*}\n"
      ],
      "text/markdown": [
       "1. Strength\n",
       "2. Stamina\n",
       "3. Other\n",
       "\n",
       "\n",
       "\n",
       "**Levels**: 1. 'Other'\n",
       "2. 'Stamina'\n",
       "3. 'Strength'\n",
       "\n",
       "\n"
      ],
      "text/plain": [
       "[1] Strength Stamina  Other   \n",
       "Levels: Other Stamina Strength"
      ]
     },
     "metadata": {},
     "output_type": "display_data"
    }
   ],
   "source": [
    "Data_Frame$Training"
   ]
  },
  {
   "cell_type": "code",
   "execution_count": 89,
   "id": "5a2f66f1",
   "metadata": {},
   "outputs": [
    {
     "data": {
      "text/html": [
       "<table>\n",
       "<thead><tr><th scope=col>Training</th><th scope=col>Pulse</th><th scope=col>Duration</th></tr></thead>\n",
       "<tbody>\n",
       "\t<tr><td>Strength</td><td>100     </td><td>60      </td></tr>\n",
       "\t<tr><td>Stamina </td><td>150     </td><td>30      </td></tr>\n",
       "\t<tr><td>Other   </td><td>120     </td><td>45      </td></tr>\n",
       "\t<tr><td>Strength</td><td>110     </td><td>110     </td></tr>\n",
       "</tbody>\n",
       "</table>\n"
      ],
      "text/latex": [
       "\\begin{tabular}{r|lll}\n",
       " Training & Pulse & Duration\\\\\n",
       "\\hline\n",
       "\t Strength & 100      & 60      \\\\\n",
       "\t Stamina  & 150      & 30      \\\\\n",
       "\t Other    & 120      & 45      \\\\\n",
       "\t Strength & 110      & 110     \\\\\n",
       "\\end{tabular}\n"
      ],
      "text/markdown": [
       "\n",
       "| Training | Pulse | Duration |\n",
       "|---|---|---|\n",
       "| Strength | 100      | 60       |\n",
       "| Stamina  | 150      | 30       |\n",
       "| Other    | 120      | 45       |\n",
       "| Strength | 110      | 110      |\n",
       "\n"
      ],
      "text/plain": [
       "  Training Pulse Duration\n",
       "1 Strength 100   60      \n",
       "2 Stamina  150   30      \n",
       "3 Other    120   45      \n",
       "4 Strength 110   110     "
      ]
     },
     "metadata": {},
     "output_type": "display_data"
    }
   ],
   "source": [
    "# Add a new row\n",
    "New_row_DF <- rbind(Data_Frame, c(\"Strength\", 110, 110))\n",
    "New_row_DF"
   ]
  },
  {
   "cell_type": "code",
   "execution_count": 90,
   "id": "bf11f00b",
   "metadata": {},
   "outputs": [
    {
     "data": {
      "text/html": [
       "<table>\n",
       "<thead><tr><th scope=col>Training</th><th scope=col>Pulse</th><th scope=col>Duration</th><th scope=col>Steps</th></tr></thead>\n",
       "<tbody>\n",
       "\t<tr><td>Strength</td><td>100     </td><td>60      </td><td>1000    </td></tr>\n",
       "\t<tr><td>Stamina </td><td>150     </td><td>30      </td><td>6000    </td></tr>\n",
       "\t<tr><td>Other   </td><td>120     </td><td>45      </td><td>2000    </td></tr>\n",
       "</tbody>\n",
       "</table>\n"
      ],
      "text/latex": [
       "\\begin{tabular}{r|llll}\n",
       " Training & Pulse & Duration & Steps\\\\\n",
       "\\hline\n",
       "\t Strength & 100      & 60       & 1000    \\\\\n",
       "\t Stamina  & 150      & 30       & 6000    \\\\\n",
       "\t Other    & 120      & 45       & 2000    \\\\\n",
       "\\end{tabular}\n"
      ],
      "text/markdown": [
       "\n",
       "| Training | Pulse | Duration | Steps |\n",
       "|---|---|---|---|\n",
       "| Strength | 100      | 60       | 1000     |\n",
       "| Stamina  | 150      | 30       | 6000     |\n",
       "| Other    | 120      | 45       | 2000     |\n",
       "\n"
      ],
      "text/plain": [
       "  Training Pulse Duration Steps\n",
       "1 Strength 100   60       1000 \n",
       "2 Stamina  150   30       6000 \n",
       "3 Other    120   45       2000 "
      ]
     },
     "metadata": {},
     "output_type": "display_data"
    }
   ],
   "source": [
    "# Add a new column\n",
    "New_col_DF <- cbind(Data_Frame, Steps = c(1000, 6000, 2000))\n",
    "New_col_DF"
   ]
  },
  {
   "cell_type": "code",
   "execution_count": 91,
   "id": "9daa84e0",
   "metadata": {},
   "outputs": [],
   "source": [
    "# Remove the first row and column\n",
    "Data_Frame_New <- Data_Frame[-c(1), -c(1)]"
   ]
  },
  {
   "cell_type": "code",
   "execution_count": 92,
   "id": "188fc6ca",
   "metadata": {},
   "outputs": [
    {
     "data": {
      "text/html": [
       "<table>\n",
       "<thead><tr><th></th><th scope=col>Pulse</th><th scope=col>Duration</th></tr></thead>\n",
       "<tbody>\n",
       "\t<tr><th scope=row>2</th><td>150</td><td>30 </td></tr>\n",
       "\t<tr><th scope=row>3</th><td>120</td><td>45 </td></tr>\n",
       "</tbody>\n",
       "</table>\n"
      ],
      "text/latex": [
       "\\begin{tabular}{r|ll}\n",
       "  & Pulse & Duration\\\\\n",
       "\\hline\n",
       "\t2 & 150 & 30 \\\\\n",
       "\t3 & 120 & 45 \\\\\n",
       "\\end{tabular}\n"
      ],
      "text/markdown": [
       "\n",
       "| <!--/--> | Pulse | Duration |\n",
       "|---|---|---|\n",
       "| 2 | 150 | 30  |\n",
       "| 3 | 120 | 45  |\n",
       "\n"
      ],
      "text/plain": [
       "  Pulse Duration\n",
       "2 150   30      \n",
       "3 120   45      "
      ]
     },
     "metadata": {},
     "output_type": "display_data"
    }
   ],
   "source": [
    "Data_Frame_New"
   ]
  },
  {
   "cell_type": "code",
   "execution_count": 93,
   "id": "8437a46e",
   "metadata": {},
   "outputs": [
    {
     "data": {
      "text/html": [
       "<ol class=list-inline>\n",
       "\t<li>2</li>\n",
       "\t<li>2</li>\n",
       "</ol>\n"
      ],
      "text/latex": [
       "\\begin{enumerate*}\n",
       "\\item 2\n",
       "\\item 2\n",
       "\\end{enumerate*}\n"
      ],
      "text/markdown": [
       "1. 2\n",
       "2. 2\n",
       "\n",
       "\n"
      ],
      "text/plain": [
       "[1] 2 2"
      ]
     },
     "metadata": {},
     "output_type": "display_data"
    }
   ],
   "source": [
    "dim(Data_Frame_New)"
   ]
  },
  {
   "cell_type": "code",
   "execution_count": 94,
   "id": "a3164902",
   "metadata": {},
   "outputs": [
    {
     "data": {
      "text/html": [
       "3"
      ],
      "text/latex": [
       "3"
      ],
      "text/markdown": [
       "3"
      ],
      "text/plain": [
       "[1] 3"
      ]
     },
     "metadata": {},
     "output_type": "display_data"
    }
   ],
   "source": [
    "ncol(Data_Frame)"
   ]
  },
  {
   "cell_type": "code",
   "execution_count": 95,
   "id": "673e19fd",
   "metadata": {},
   "outputs": [
    {
     "data": {
      "text/html": [
       "3"
      ],
      "text/latex": [
       "3"
      ],
      "text/markdown": [
       "3"
      ],
      "text/plain": [
       "[1] 3"
      ]
     },
     "metadata": {},
     "output_type": "display_data"
    }
   ],
   "source": [
    "nrow(Data_Frame)"
   ]
  },
  {
   "cell_type": "code",
   "execution_count": 97,
   "id": "096e03d5",
   "metadata": {},
   "outputs": [
    {
     "data": {
      "text/html": [
       "3"
      ],
      "text/latex": [
       "3"
      ],
      "text/markdown": [
       "3"
      ],
      "text/plain": [
       "[1] 3"
      ]
     },
     "metadata": {},
     "output_type": "display_data"
    }
   ],
   "source": [
    "length(Data_Frame) #this also returns number of columns"
   ]
  },
  {
   "cell_type": "code",
   "execution_count": 98,
   "id": "e18d8bd9",
   "metadata": {},
   "outputs": [
    {
     "data": {
      "text/html": [
       "<ol class=list-inline>\n",
       "\t<li>Jazz</li>\n",
       "\t<li>Rock</li>\n",
       "\t<li>Classic</li>\n",
       "\t<li>Classic</li>\n",
       "\t<li>Pop</li>\n",
       "\t<li>Jazz</li>\n",
       "\t<li>Rock</li>\n",
       "\t<li>Jazz</li>\n",
       "</ol>\n",
       "\n",
       "<details>\n",
       "\t<summary style=display:list-item;cursor:pointer>\n",
       "\t\t<strong>Levels</strong>:\n",
       "\t</summary>\n",
       "\t<ol class=list-inline>\n",
       "\t\t<li>'Classic'</li>\n",
       "\t\t<li>'Jazz'</li>\n",
       "\t\t<li>'Pop'</li>\n",
       "\t\t<li>'Rock'</li>\n",
       "\t</ol>\n",
       "</details>"
      ],
      "text/latex": [
       "\\begin{enumerate*}\n",
       "\\item Jazz\n",
       "\\item Rock\n",
       "\\item Classic\n",
       "\\item Classic\n",
       "\\item Pop\n",
       "\\item Jazz\n",
       "\\item Rock\n",
       "\\item Jazz\n",
       "\\end{enumerate*}\n",
       "\n",
       "\\emph{Levels}: \\begin{enumerate*}\n",
       "\\item 'Classic'\n",
       "\\item 'Jazz'\n",
       "\\item 'Pop'\n",
       "\\item 'Rock'\n",
       "\\end{enumerate*}\n"
      ],
      "text/markdown": [
       "1. Jazz\n",
       "2. Rock\n",
       "3. Classic\n",
       "4. Classic\n",
       "5. Pop\n",
       "6. Jazz\n",
       "7. Rock\n",
       "8. Jazz\n",
       "\n",
       "\n",
       "\n",
       "**Levels**: 1. 'Classic'\n",
       "2. 'Jazz'\n",
       "3. 'Pop'\n",
       "4. 'Rock'\n",
       "\n",
       "\n"
      ],
      "text/plain": [
       "[1] Jazz    Rock    Classic Classic Pop     Jazz    Rock    Jazz   \n",
       "Levels: Classic Jazz Pop Rock"
      ]
     },
     "metadata": {},
     "output_type": "display_data"
    }
   ],
   "source": [
    "#factor - used to categorize data\n",
    "\n",
    "# Create a factor\n",
    "music_genre <- factor(c(\"Jazz\", \"Rock\", \"Classic\", \"Classic\", \"Pop\", \"Jazz\", \"Rock\", \"Jazz\"))\n",
    "\n",
    "# Print the factor\n",
    "music_genre"
   ]
  },
  {
   "cell_type": "code",
   "execution_count": 99,
   "id": "a4d678b3",
   "metadata": {},
   "outputs": [
    {
     "data": {
      "text/html": [
       "<ol class=list-inline>\n",
       "\t<li>'Classic'</li>\n",
       "\t<li>'Jazz'</li>\n",
       "\t<li>'Pop'</li>\n",
       "\t<li>'Rock'</li>\n",
       "</ol>\n"
      ],
      "text/latex": [
       "\\begin{enumerate*}\n",
       "\\item 'Classic'\n",
       "\\item 'Jazz'\n",
       "\\item 'Pop'\n",
       "\\item 'Rock'\n",
       "\\end{enumerate*}\n"
      ],
      "text/markdown": [
       "1. 'Classic'\n",
       "2. 'Jazz'\n",
       "3. 'Pop'\n",
       "4. 'Rock'\n",
       "\n",
       "\n"
      ],
      "text/plain": [
       "[1] \"Classic\" \"Jazz\"    \"Pop\"     \"Rock\"   "
      ]
     },
     "metadata": {},
     "output_type": "display_data"
    }
   ],
   "source": [
    "#to print the levels\n",
    "levels(music_genre)"
   ]
  },
  {
   "cell_type": "code",
   "execution_count": 100,
   "id": "f345e8fd",
   "metadata": {
    "scrolled": true
   },
   "outputs": [
    {
     "data": {
      "text/html": [
       "<ol class=list-inline>\n",
       "\t<li>'Classic'</li>\n",
       "\t<li>'Jazz'</li>\n",
       "\t<li>'Pop'</li>\n",
       "\t<li>'Rock'</li>\n",
       "\t<li>'Other'</li>\n",
       "</ol>\n"
      ],
      "text/latex": [
       "\\begin{enumerate*}\n",
       "\\item 'Classic'\n",
       "\\item 'Jazz'\n",
       "\\item 'Pop'\n",
       "\\item 'Rock'\n",
       "\\item 'Other'\n",
       "\\end{enumerate*}\n"
      ],
      "text/markdown": [
       "1. 'Classic'\n",
       "2. 'Jazz'\n",
       "3. 'Pop'\n",
       "4. 'Rock'\n",
       "5. 'Other'\n",
       "\n",
       "\n"
      ],
      "text/plain": [
       "[1] \"Classic\" \"Jazz\"    \"Pop\"     \"Rock\"    \"Other\"  "
      ]
     },
     "metadata": {},
     "output_type": "display_data"
    }
   ],
   "source": [
    "#we can also set the levels\n",
    "music_genre <- factor(c(\"Jazz\", \"Rock\", \"Classic\", \"Classic\", \"Pop\", \"Jazz\", \"Rock\", \"Jazz\"), levels = c(\"Classic\", \"Jazz\", \"Pop\", \"Rock\", \"Other\"))\n",
    "\n",
    "levels(music_genre)"
   ]
  },
  {
   "cell_type": "code",
   "execution_count": 101,
   "id": "981da9c3",
   "metadata": {},
   "outputs": [
    {
     "data": {
      "text/html": [
       "8"
      ],
      "text/latex": [
       "8"
      ],
      "text/markdown": [
       "8"
      ],
      "text/plain": [
       "[1] 8"
      ]
     },
     "metadata": {},
     "output_type": "display_data"
    }
   ],
   "source": [
    "length(music_genre)"
   ]
  },
  {
   "cell_type": "code",
   "execution_count": 102,
   "id": "1714c41f",
   "metadata": {},
   "outputs": [
    {
     "data": {
      "text/html": [
       "Classic\n",
       "<details>\n",
       "\t<summary style=display:list-item;cursor:pointer>\n",
       "\t\t<strong>Levels</strong>:\n",
       "\t</summary>\n",
       "\t<ol class=list-inline>\n",
       "\t\t<li>'Classic'</li>\n",
       "\t\t<li>'Jazz'</li>\n",
       "\t\t<li>'Pop'</li>\n",
       "\t\t<li>'Rock'</li>\n",
       "\t\t<li>'Other'</li>\n",
       "\t</ol>\n",
       "</details>"
      ],
      "text/latex": [
       "Classic\n",
       "\\emph{Levels}: \\begin{enumerate*}\n",
       "\\item 'Classic'\n",
       "\\item 'Jazz'\n",
       "\\item 'Pop'\n",
       "\\item 'Rock'\n",
       "\\item 'Other'\n",
       "\\end{enumerate*}\n"
      ],
      "text/markdown": [
       "Classic\n",
       "**Levels**: 1. 'Classic'\n",
       "2. 'Jazz'\n",
       "3. 'Pop'\n",
       "4. 'Rock'\n",
       "5. 'Other'\n",
       "\n",
       "\n"
      ],
      "text/plain": [
       "[1] Classic\n",
       "Levels: Classic Jazz Pop Rock Other"
      ]
     },
     "metadata": {},
     "output_type": "display_data"
    }
   ],
   "source": [
    "music_genre[3]"
   ]
  },
  {
   "cell_type": "code",
   "execution_count": 104,
   "id": "94e0d369",
   "metadata": {},
   "outputs": [
    {
     "data": {
      "text/html": [
       "<ol class=list-inline>\n",
       "\t<li>Jazz</li>\n",
       "\t<li>Rock</li>\n",
       "\t<li>Pop</li>\n",
       "\t<li>Classic</li>\n",
       "\t<li>Pop</li>\n",
       "\t<li>Jazz</li>\n",
       "\t<li>Rock</li>\n",
       "\t<li>Jazz</li>\n",
       "</ol>\n",
       "\n",
       "<details>\n",
       "\t<summary style=display:list-item;cursor:pointer>\n",
       "\t\t<strong>Levels</strong>:\n",
       "\t</summary>\n",
       "\t<ol class=list-inline>\n",
       "\t\t<li>'Classic'</li>\n",
       "\t\t<li>'Jazz'</li>\n",
       "\t\t<li>'Pop'</li>\n",
       "\t\t<li>'Rock'</li>\n",
       "\t\t<li>'Other'</li>\n",
       "\t</ol>\n",
       "</details>"
      ],
      "text/latex": [
       "\\begin{enumerate*}\n",
       "\\item Jazz\n",
       "\\item Rock\n",
       "\\item Pop\n",
       "\\item Classic\n",
       "\\item Pop\n",
       "\\item Jazz\n",
       "\\item Rock\n",
       "\\item Jazz\n",
       "\\end{enumerate*}\n",
       "\n",
       "\\emph{Levels}: \\begin{enumerate*}\n",
       "\\item 'Classic'\n",
       "\\item 'Jazz'\n",
       "\\item 'Pop'\n",
       "\\item 'Rock'\n",
       "\\item 'Other'\n",
       "\\end{enumerate*}\n"
      ],
      "text/markdown": [
       "1. Jazz\n",
       "2. Rock\n",
       "3. Pop\n",
       "4. Classic\n",
       "5. Pop\n",
       "6. Jazz\n",
       "7. Rock\n",
       "8. Jazz\n",
       "\n",
       "\n",
       "\n",
       "**Levels**: 1. 'Classic'\n",
       "2. 'Jazz'\n",
       "3. 'Pop'\n",
       "4. 'Rock'\n",
       "5. 'Other'\n",
       "\n",
       "\n"
      ],
      "text/plain": [
       "[1] Jazz    Rock    Pop     Classic Pop     Jazz    Rock    Jazz   \n",
       "Levels: Classic Jazz Pop Rock Other"
      ]
     },
     "metadata": {},
     "output_type": "display_data"
    }
   ],
   "source": [
    "music_genre[3] <- \"Pop\"\n",
    "music_genre"
   ]
  }
 ],
 "metadata": {
  "kernelspec": {
   "display_name": "R",
   "language": "R",
   "name": "ir"
  },
  "language_info": {
   "codemirror_mode": "r",
   "file_extension": ".r",
   "mimetype": "text/x-r-source",
   "name": "R",
   "pygments_lexer": "r",
   "version": "3.6.1"
  }
 },
 "nbformat": 4,
 "nbformat_minor": 5
}
